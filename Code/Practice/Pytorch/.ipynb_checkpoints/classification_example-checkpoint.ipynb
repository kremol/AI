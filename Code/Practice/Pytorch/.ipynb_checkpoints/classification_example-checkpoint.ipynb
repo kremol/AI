{
 "cells": [
  {
   "cell_type": "code",
   "execution_count": 1,
   "metadata": {},
   "outputs": [],
   "source": [
    "import torch\n",
    "import torch.nn.functional as F\n",
    "import matplotlib.pyplot as plt"
   ]
  },
  {
   "cell_type": "code",
   "execution_count": 2,
   "metadata": {},
   "outputs": [],
   "source": [
    "class Net(torch.nn.Module):\n",
    "    def __init__(self,n_features, n_hidden, n_output):\n",
    "        super(Net,self).__init__()\n",
    "        self.hidden = torch.nn.Linear(n_features,n_hidden)\n",
    "        self.predict = torch.nn.Linear(n_hidden,n_output)\n",
    "    \n",
    "    def forward(self,x):\n",
    "        x = F.relu(self.hidden(x))\n",
    "        return self.predict(x)"
   ]
  },
  {
   "cell_type": "code",
   "execution_count": 27,
   "metadata": {},
   "outputs": [],
   "source": [
    "n_data = torch.ones(100,2)"
   ]
  },
  {
   "cell_type": "code",
   "execution_count": 28,
   "metadata": {},
   "outputs": [],
   "source": [
    "x0 = torch.normal(2*n_data, 1)\n",
    "y0 = torch.zeros(100)"
   ]
  },
  {
   "cell_type": "code",
   "execution_count": 30,
   "metadata": {},
   "outputs": [],
   "source": [
    "x1 = torch.normal(-2*n_data, 1)\n",
    "y1 = torch.ones(100)"
   ]
  },
  {
   "cell_type": "code",
   "execution_count": 43,
   "metadata": {},
   "outputs": [],
   "source": [
    "x = torch.cat((x0,x1),0).type(torch.FloatTensor)"
   ]
  },
  {
   "cell_type": "code",
   "execution_count": 47,
   "metadata": {},
   "outputs": [],
   "source": [
    "y = torch.cat((y0,y1),).type(torch.LongTensor)  #y只能在0维度上合并，所以可以省略不写"
   ]
  },
  {
   "cell_type": "code",
   "execution_count": 53,
   "metadata": {},
   "outputs": [
    {
     "data": {
      "text/plain": [
       "<matplotlib.collections.PathCollection at 0x24ce0cf83c8>"
      ]
     },
     "execution_count": 53,
     "metadata": {},
     "output_type": "execute_result"
    },
    {
     "data": {
      "image/png": "[encoded data removed]",
      "text/plain": [
       "<Figure size 432x288 with 1 Axes>"
      ]
     },
     "metadata": {},
     "output_type": "display_data"
    }
   ],
   "source": [
    "plt.scatter(x.numpy()[:,0],x.numpy()[:,1],c = y.numpy())"
   ]
  },
  {
   "cell_type": "code",
   "execution_count": 60,
   "metadata": {},
   "outputs": [],
   "source": [
    "net = Net(2,10,2)\n",
    "loss_func = torch.nn.CrossEntropyLoss()\n",
    "optimizer = torch.optim.SGD(net.parameters(), lr = 0.5)"
   ]
  },
  {
   "cell_type": "code",
   "execution_count": 61,
   "metadata": {},
   "outputs": [
    {
     "name": "stdout",
     "output_type": "stream",
     "text": [
      "0 th loss is  tensor(0.6081, grad_fn=<NllLossBackward>)\n",
      "1 th loss is  tensor(0.3670, grad_fn=<NllLossBackward>)\n",
      "2 th loss is  tensor(0.2556, grad_fn=<NllLossBackward>)\n",
      "3 th loss is  tensor(0.1761, grad_fn=<NllLossBackward>)\n",
      "4 th loss is  tensor(0.1252, grad_fn=<NllLossBackward>)\n",
      "5 th loss is  tensor(0.0949, grad_fn=<NllLossBackward>)\n",
      "6 th loss is  tensor(0.0764, grad_fn=<NllLossBackward>)\n",
      "7 th loss is  tensor(0.0642, grad_fn=<NllLossBackward>)\n",
      "8 th loss is  tensor(0.0556, grad_fn=<NllLossBackward>)\n",
      "9 th loss is  tensor(0.0493, grad_fn=<NllLossBackward>)\n",
      "10 th loss is  tensor(0.0444, grad_fn=<NllLossBackward>)\n",
      "11 th loss is  tensor(0.0406, grad_fn=<NllLossBackward>)\n",
      "12 th loss is  tensor(0.0375, grad_fn=<NllLossBackward>)\n",
      "13 th loss is  tensor(0.0349, grad_fn=<NllLossBackward>)\n",
      "14 th loss is  tensor(0.0328, grad_fn=<NllLossBackward>)\n",
      "15 th loss is  tensor(0.0309, grad_fn=<NllLossBackward>)\n",
      "16 th loss is  tensor(0.0293, grad_fn=<NllLossBackward>)\n",
      "17 th loss is  tensor(0.0279, grad_fn=<NllLossBackward>)\n",
      "18 th loss is  tensor(0.0267, grad_fn=<NllLossBackward>)\n",
      "19 th loss is  tensor(0.0256, grad_fn=<NllLossBackward>)\n",
      "20 th loss is  tensor(0.0246, grad_fn=<NllLossBackward>)\n",
      "21 th loss is  tensor(0.0237, grad_fn=<NllLossBackward>)\n",
      "22 th loss is  tensor(0.0228, grad_fn=<NllLossBackward>)\n",
      "23 th loss is  tensor(0.0221, grad_fn=<NllLossBackward>)\n",
      "24 th loss is  tensor(0.0214, grad_fn=<NllLossBackward>)\n",
      "25 th loss is  tensor(0.0207, grad_fn=<NllLossBackward>)\n",
      "26 th loss is  tensor(0.0201, grad_fn=<NllLossBackward>)\n",
      "27 th loss is  tensor(0.0196, grad_fn=<NllLossBackward>)\n",
      "28 th loss is  tensor(0.0190, grad_fn=<NllLossBackward>)\n",
      "29 th loss is  tensor(0.0185, grad_fn=<NllLossBackward>)\n",
      "30 th loss is  tensor(0.0181, grad_fn=<NllLossBackward>)\n",
      "31 th loss is  tensor(0.0176, grad_fn=<NllLossBackward>)\n",
      "32 th loss is  tensor(0.0172, grad_fn=<NllLossBackward>)\n",
      "33 th loss is  tensor(0.0168, grad_fn=<NllLossBackward>)\n",
      "34 th loss is  tensor(0.0165, grad_fn=<NllLossBackward>)\n",
      "35 th loss is  tensor(0.0161, grad_fn=<NllLossBackward>)\n",
      "36 th loss is  tensor(0.0158, grad_fn=<NllLossBackward>)\n",
      "37 th loss is  tensor(0.0155, grad_fn=<NllLossBackward>)\n",
      "38 th loss is  tensor(0.0152, grad_fn=<NllLossBackward>)\n",
      "39 th loss is  tensor(0.0149, grad_fn=<NllLossBackward>)\n",
      "40 th loss is  tensor(0.0146, grad_fn=<NllLossBackward>)\n",
      "41 th loss is  tensor(0.0144, grad_fn=<NllLossBackward>)\n",
      "42 th loss is  tensor(0.0141, grad_fn=<NllLossBackward>)\n",
      "43 th loss is  tensor(0.0139, grad_fn=<NllLossBackward>)\n",
      "44 th loss is  tensor(0.0136, grad_fn=<NllLossBackward>)\n",
      "45 th loss is  tensor(0.0134, grad_fn=<NllLossBackward>)\n",
      "46 th loss is  tensor(0.0132, grad_fn=<NllLossBackward>)\n",
      "47 th loss is  tensor(0.0130, grad_fn=<NllLossBackward>)\n",
      "48 th loss is  tensor(0.0128, grad_fn=<NllLossBackward>)\n",
      "49 th loss is  tensor(0.0126, grad_fn=<NllLossBackward>)\n",
      "50 th loss is  tensor(0.0124, grad_fn=<NllLossBackward>)\n",
      "51 th loss is  tensor(0.0122, grad_fn=<NllLossBackward>)\n",
      "52 th loss is  tensor(0.0120, grad_fn=<NllLossBackward>)\n",
      "53 th loss is  tensor(0.0119, grad_fn=<NllLossBackward>)\n",
      "54 th loss is  tensor(0.0117, grad_fn=<NllLossBackward>)\n",
      "55 th loss is  tensor(0.0115, grad_fn=<NllLossBackward>)\n",
      "56 th loss is  tensor(0.0114, grad_fn=<NllLossBackward>)\n",
      "57 th loss is  tensor(0.0112, grad_fn=<NllLossBackward>)\n",
      "58 th loss is  tensor(0.0111, grad_fn=<NllLossBackward>)\n",
      "59 th loss is  tensor(0.0109, grad_fn=<NllLossBackward>)\n",
      "60 th loss is  tensor(0.0108, grad_fn=<NllLossBackward>)\n",
      "61 th loss is  tensor(0.0107, grad_fn=<NllLossBackward>)\n",
      "62 th loss is  tensor(0.0105, grad_fn=<NllLossBackward>)\n",
      "63 th loss is  tensor(0.0104, grad_fn=<NllLossBackward>)\n",
      "64 th loss is  tensor(0.0103, grad_fn=<NllLossBackward>)\n",
      "65 th loss is  tensor(0.0102, grad_fn=<NllLossBackward>)\n",
      "66 th loss is  tensor(0.0101, grad_fn=<NllLossBackward>)\n",
      "67 th loss is  tensor(0.0099, grad_fn=<NllLossBackward>)\n",
      "68 th loss is  tensor(0.0098, grad_fn=<NllLossBackward>)\n",
      "69 th loss is  tensor(0.0097, grad_fn=<NllLossBackward>)\n",
      "70 th loss is  tensor(0.0096, grad_fn=<NllLossBackward>)\n",
      "71 th loss is  tensor(0.0095, grad_fn=<NllLossBackward>)\n",
      "72 th loss is  tensor(0.0094, grad_fn=<NllLossBackward>)\n",
      "73 th loss is  tensor(0.0093, grad_fn=<NllLossBackward>)\n",
      "74 th loss is  tensor(0.0092, grad_fn=<NllLossBackward>)\n",
      "75 th loss is  tensor(0.0091, grad_fn=<NllLossBackward>)\n",
      "76 th loss is  tensor(0.0090, grad_fn=<NllLossBackward>)\n",
      "77 th loss is  tensor(0.0089, grad_fn=<NllLossBackward>)\n",
      "78 th loss is  tensor(0.0088, grad_fn=<NllLossBackward>)\n",
      "79 th loss is  tensor(0.0087, grad_fn=<NllLossBackward>)\n",
      "80 th loss is  tensor(0.0087, grad_fn=<NllLossBackward>)\n",
      "81 th loss is  tensor(0.0086, grad_fn=<NllLossBackward>)\n",
      "82 th loss is  tensor(0.0085, grad_fn=<NllLossBackward>)\n",
      "83 th loss is  tensor(0.0084, grad_fn=<NllLossBackward>)\n",
      "84 th loss is  tensor(0.0083, grad_fn=<NllLossBackward>)\n",
      "85 th loss is  tensor(0.0083, grad_fn=<NllLossBackward>)\n",
      "86 th loss is  tensor(0.0082, grad_fn=<NllLossBackward>)\n",
      "87 th loss is  tensor(0.0081, grad_fn=<NllLossBackward>)\n",
      "88 th loss is  tensor(0.0080, grad_fn=<NllLossBackward>)\n",
      "89 th loss is  tensor(0.0080, grad_fn=<NllLossBackward>)\n",
      "90 th loss is  tensor(0.0079, grad_fn=<NllLossBackward>)\n",
      "91 th loss is  tensor(0.0078, grad_fn=<NllLossBackward>)\n",
      "92 th loss is  tensor(0.0078, grad_fn=<NllLossBackward>)\n",
      "93 th loss is  tensor(0.0077, grad_fn=<NllLossBackward>)\n",
      "94 th loss is  tensor(0.0076, grad_fn=<NllLossBackward>)\n",
      "95 th loss is  tensor(0.0076, grad_fn=<NllLossBackward>)\n",
      "96 th loss is  tensor(0.0075, grad_fn=<NllLossBackward>)\n",
      "97 th loss is  tensor(0.0075, grad_fn=<NllLossBackward>)\n",
      "98 th loss is  tensor(0.0074, grad_fn=<NllLossBackward>)\n",
      "99 th loss is  tensor(0.0073, grad_fn=<NllLossBackward>)\n"
     ]
    }
   ],
   "source": [
    "for i in range(100):\n",
    "    y_ = net(x)\n",
    "    loss = loss_func(y_, y)  #y中的数字表示取y_每个样本的哪一维，比如说y[0] = 2,那么就是算-log(softmax(y_[0])[2])，这就表示第0号样本的损失值\n",
    "    print(i,'th loss is ', loss)\n",
    "    \n",
    "    optimizer.zero_grad()\n",
    "    loss.backward()\n",
    "    optimizer.step()\n",
    "    "
   ]
  },
  {
   "cell_type": "code",
   "execution_count": 62,
   "metadata": {},
   "outputs": [],
   "source": [
    "x_test = torch.Tensor([[3,3],[3.5,4.5],[-1,-2]])\n",
    "out = net(x_test)"
   ]
  },
  {
   "cell_type": "code",
   "execution_count": 63,
   "metadata": {},
   "outputs": [
    {
     "data": {
      "text/plain": [
       "tensor([[ 7.9963, -7.0457],\n",
       "        [10.9142, -9.3909],\n",
       "        [-3.4872,  2.8674]], grad_fn=<AddmmBackward>)"
      ]
     },
     "execution_count": 63,
     "metadata": {},
     "output_type": "execute_result"
    }
   ],
   "source": [
    "out"
   ]
  }
 ],
 "metadata": {
  "kernelspec": {
   "display_name": "Python 3",
   "language": "python",
   "name": "python3"
  },
  "language_info": {
   "codemirror_mode": {
    "name": "ipython",
    "version": 3
   },
   "file_extension": ".py",
   "mimetype": "text/x-python",
   "name": "python",
   "nbconvert_exporter": "python",
   "pygments_lexer": "ipython3",
   "version": "3.6.5"
  }
 },
 "nbformat": 4,
 "nbformat_minor": 2
}
