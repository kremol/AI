{
 "cells": [
  {
   "cell_type": "code",
   "execution_count": 14,
   "metadata": {},
   "outputs": [],
   "source": [
    "import torch\n",
    "import torch.nn.functional as F\n",
    "import matplotlib.pyplot as plt\n",
    "import torch.utils.data as Data"
   ]
  },
  {
   "cell_type": "code",
   "execution_count": 4,
   "metadata": {},
   "outputs": [],
   "source": [
    "x = torch.unsqueeze(torch.linspace(-1,1,100),dim = 1)"
   ]
  },
  {
   "cell_type": "code",
   "execution_count": 12,
   "metadata": {},
   "outputs": [],
   "source": [
    "y = x.pow(2) + 0.1*torch.normal(torch.zeros(x.size()),1)"
   ]
  },
  {
   "cell_type": "code",
   "execution_count": 13,
   "metadata": {},
   "outputs": [
    {
     "data": {
      "text/plain": [
       "<matplotlib.collections.PathCollection at 0x153c13cdf98>"
      ]
     },
     "execution_count": 13,
     "metadata": {},
     "output_type": "execute_result"
    },
    {
     "data": {
      "image/png": "[encoded data removed]",
      "text/plain": [
       "<Figure size 432x288 with 1 Axes>"
      ]
     },
     "metadata": {},
     "output_type": "display_data"
    }
   ],
   "source": [
    "plt.scatter(x,y)"
   ]
  },
  {
   "cell_type": "code",
   "execution_count": 18,
   "metadata": {},
   "outputs": [],
   "source": [
    "torch_dataset = Data.TensorDataset(x,y)\n",
    "loader = Data.DataLoader(dataset = torch_dataset, batch_size = 32,shuffle = True,num_workers = 2)"
   ]
  },
  {
   "cell_type": "code",
   "execution_count": 19,
   "metadata": {},
   "outputs": [],
   "source": [
    "class Net(torch.nn.Module):\n",
    "    def __init__(self,n_features,n_hidden,n_output):\n",
    "        super(Net,self).__init__()\n",
    "        self.hidden = torch.nn.Linear(n_features,n_hidden)\n",
    "        self.predict = torch.nn.Linear(n_hidden,n_output)\n",
    "    \n",
    "    def forward(self,x):\n",
    "        x = F.relu(self.hidden(x))\n",
    "        return self.predict(x)"
   ]
  },
  {
   "cell_type": "code",
   "execution_count": 20,
   "metadata": {},
   "outputs": [],
   "source": [
    "net_SGD = Net(1,20,1)\n",
    "net_Momentum = Net(1,20,1)\n",
    "net_RMSgroup = Net(1,20,1)\n",
    "net_Adam = Net(1,20,1)"
   ]
  },
  {
   "cell_type": "code",
   "execution_count": 22,
   "metadata": {},
   "outputs": [],
   "source": [
    "opt_SGD = torch.optim.SGD(net_SGD.parameters(),lr = 0.5)\n",
    "opt_Momentum = torch.optim.SGD(net_Momentum.parameters(),lr = 0.5)\n",
    "opt_RMSgroup = torch.optim.SGD(net_RMSgroup.parameters(),lr = 0.5)\n",
    "opt_Adam = torch.optim.SGD(net_Adam.parameters(),lr = 0.5)"
   ]
  },
  {
   "cell_type": "code",
   "execution_count": 76,
   "metadata": {},
   "outputs": [],
   "source": [
    "loss_func = torch.nn.MSELoss()\n",
    "loss_his = [[],[],[],[]]"
   ]
  },
  {
   "cell_type": "code",
   "execution_count": 77,
   "metadata": {},
   "outputs": [],
   "source": [
    "nets = [net_SGD, net_Momentum,net_RMSgroup,net_Adam]\n",
    "optimizers = [opt_SGD, opt_Momentum,opt_RMSgroup,opt_Adam]"
   ]
  },
  {
   "cell_type": "code",
   "execution_count": 78,
   "metadata": {},
   "outputs": [
    {
     "name": "stdout",
     "output_type": "stream",
     "text": [
      "0\n",
      "tensor(0.0121, grad_fn=<MseLossBackward>)\n",
      "tensor(0.0095, grad_fn=<MseLossBackward>)\n",
      "tensor(0.0581, grad_fn=<MseLossBackward>)\n",
      "tensor(0.0112, grad_fn=<MseLossBackward>)\n",
      "tensor(0.0125, grad_fn=<MseLossBackward>)\n",
      "tensor(0.0140, grad_fn=<MseLossBackward>)\n",
      "tensor(0.0726, grad_fn=<MseLossBackward>)\n",
      "tensor(0.0123, grad_fn=<MseLossBackward>)\n",
      "tensor(0.0137, grad_fn=<MseLossBackward>)\n",
      "tensor(0.0154, grad_fn=<MseLossBackward>)\n",
      "tensor(0.0746, grad_fn=<MseLossBackward>)\n",
      "tensor(0.0137, grad_fn=<MseLossBackward>)\n",
      "tensor(0.0227, grad_fn=<MseLossBackward>)\n",
      "tensor(0.0221, grad_fn=<MseLossBackward>)\n",
      "tensor(0.0347, grad_fn=<MseLossBackward>)\n",
      "tensor(0.0240, grad_fn=<MseLossBackward>)\n",
      "1\n",
      "tensor(0.0517, grad_fn=<MseLossBackward>)\n",
      "tensor(0.0570, grad_fn=<MseLossBackward>)\n",
      "tensor(0.1173, grad_fn=<MseLossBackward>)\n",
      "tensor(0.0555, grad_fn=<MseLossBackward>)\n",
      "tensor(0.0201, grad_fn=<MseLossBackward>)\n",
      "tensor(0.0207, grad_fn=<MseLossBackward>)\n",
      "tensor(0.0599, grad_fn=<MseLossBackward>)\n",
      "tensor(0.0200, grad_fn=<MseLossBackward>)\n",
      "tensor(0.0115, grad_fn=<MseLossBackward>)\n",
      "tensor(0.0110, grad_fn=<MseLossBackward>)\n",
      "tensor(0.0803, grad_fn=<MseLossBackward>)\n",
      "tensor(0.0123, grad_fn=<MseLossBackward>)\n",
      "tensor(0.0264, grad_fn=<MseLossBackward>)\n",
      "tensor(0.0318, grad_fn=<MseLossBackward>)\n",
      "tensor(0.2568, grad_fn=<MseLossBackward>)\n",
      "tensor(0.0259, grad_fn=<MseLossBackward>)\n",
      "2\n",
      "tensor(0.0351, grad_fn=<MseLossBackward>)\n",
      "tensor(0.0334, grad_fn=<MseLossBackward>)\n",
      "tensor(0.0865, grad_fn=<MseLossBackward>)\n",
      "tensor(0.0278, grad_fn=<MseLossBackward>)\n",
      "tensor(0.0204, grad_fn=<MseLossBackward>)\n",
      "tensor(0.0218, grad_fn=<MseLossBackward>)\n",
      "tensor(0.1025, grad_fn=<MseLossBackward>)\n",
      "tensor(0.0187, grad_fn=<MseLossBackward>)\n",
      "tensor(0.0150, grad_fn=<MseLossBackward>)\n",
      "tensor(0.0161, grad_fn=<MseLossBackward>)\n",
      "tensor(0.0492, grad_fn=<MseLossBackward>)\n",
      "tensor(0.0148, grad_fn=<MseLossBackward>)\n",
      "tensor(0.0159, grad_fn=<MseLossBackward>)\n",
      "tensor(0.0238, grad_fn=<MseLossBackward>)\n",
      "tensor(0.1172, grad_fn=<MseLossBackward>)\n",
      "tensor(0.0135, grad_fn=<MseLossBackward>)\n",
      "3\n",
      "tensor(0.0150, grad_fn=<MseLossBackward>)\n",
      "tensor(0.0179, grad_fn=<MseLossBackward>)\n",
      "tensor(0.1080, grad_fn=<MseLossBackward>)\n",
      "tensor(0.0144, grad_fn=<MseLossBackward>)\n",
      "tensor(0.0100, grad_fn=<MseLossBackward>)\n",
      "tensor(0.0116, grad_fn=<MseLossBackward>)\n",
      "tensor(0.0679, grad_fn=<MseLossBackward>)\n",
      "tensor(0.0101, grad_fn=<MseLossBackward>)\n",
      "tensor(0.0154, grad_fn=<MseLossBackward>)\n",
      "tensor(0.0165, grad_fn=<MseLossBackward>)\n",
      "tensor(0.0777, grad_fn=<MseLossBackward>)\n",
      "tensor(0.0156, grad_fn=<MseLossBackward>)\n",
      "tensor(0.0040, grad_fn=<MseLossBackward>)\n",
      "tensor(0.0048, grad_fn=<MseLossBackward>)\n",
      "tensor(0.0471, grad_fn=<MseLossBackward>)\n",
      "tensor(0.0040, grad_fn=<MseLossBackward>)\n",
      "4\n",
      "tensor(0.0136, grad_fn=<MseLossBackward>)\n",
      "tensor(0.0158, grad_fn=<MseLossBackward>)\n",
      "tensor(0.0546, grad_fn=<MseLossBackward>)\n",
      "tensor(0.0145, grad_fn=<MseLossBackward>)\n",
      "tensor(0.0127, grad_fn=<MseLossBackward>)\n",
      "tensor(0.0131, grad_fn=<MseLossBackward>)\n",
      "tensor(0.0516, grad_fn=<MseLossBackward>)\n",
      "tensor(0.0127, grad_fn=<MseLossBackward>)\n",
      "tensor(0.0139, grad_fn=<MseLossBackward>)\n",
      "tensor(0.0162, grad_fn=<MseLossBackward>)\n",
      "tensor(0.1110, grad_fn=<MseLossBackward>)\n",
      "tensor(0.0137, grad_fn=<MseLossBackward>)\n",
      "tensor(0.0096, grad_fn=<MseLossBackward>)\n",
      "tensor(0.0084, grad_fn=<MseLossBackward>)\n",
      "tensor(0.0206, grad_fn=<MseLossBackward>)\n",
      "tensor(0.0086, grad_fn=<MseLossBackward>)\n",
      "5\n",
      "tensor(0.0107, grad_fn=<MseLossBackward>)\n",
      "tensor(0.0129, grad_fn=<MseLossBackward>)\n",
      "tensor(0.0512, grad_fn=<MseLossBackward>)\n",
      "tensor(0.0120, grad_fn=<MseLossBackward>)\n",
      "tensor(0.0153, grad_fn=<MseLossBackward>)\n",
      "tensor(0.0154, grad_fn=<MseLossBackward>)\n",
      "tensor(0.0746, grad_fn=<MseLossBackward>)\n",
      "tensor(0.0154, grad_fn=<MseLossBackward>)\n",
      "tensor(0.0114, grad_fn=<MseLossBackward>)\n",
      "tensor(0.0123, grad_fn=<MseLossBackward>)\n",
      "tensor(0.0772, grad_fn=<MseLossBackward>)\n",
      "tensor(0.0117, grad_fn=<MseLossBackward>)\n",
      "tensor(0.0107, grad_fn=<MseLossBackward>)\n",
      "tensor(0.0182, grad_fn=<MseLossBackward>)\n",
      "tensor(0.0653, grad_fn=<MseLossBackward>)\n",
      "tensor(0.0109, grad_fn=<MseLossBackward>)\n",
      "6\n",
      "tensor(0.0117, grad_fn=<MseLossBackward>)\n",
      "tensor(0.0126, grad_fn=<MseLossBackward>)\n",
      "tensor(0.1366, grad_fn=<MseLossBackward>)\n",
      "tensor(0.0113, grad_fn=<MseLossBackward>)\n",
      "tensor(0.0095, grad_fn=<MseLossBackward>)\n",
      "tensor(0.0097, grad_fn=<MseLossBackward>)\n",
      "tensor(0.0645, grad_fn=<MseLossBackward>)\n",
      "tensor(0.0095, grad_fn=<MseLossBackward>)\n",
      "tensor(0.0170, grad_fn=<MseLossBackward>)\n",
      "tensor(0.0201, grad_fn=<MseLossBackward>)\n",
      "tensor(0.0550, grad_fn=<MseLossBackward>)\n",
      "tensor(0.0177, grad_fn=<MseLossBackward>)\n",
      "tensor(0.0006, grad_fn=<MseLossBackward>)\n",
      "tensor(0.0003, grad_fn=<MseLossBackward>)\n",
      "tensor(0.0573, grad_fn=<MseLossBackward>)\n",
      "tensor(0.0005, grad_fn=<MseLossBackward>)\n",
      "7\n",
      "tensor(0.0145, grad_fn=<MseLossBackward>)\n",
      "tensor(0.0161, grad_fn=<MseLossBackward>)\n",
      "tensor(0.0550, grad_fn=<MseLossBackward>)\n",
      "tensor(0.0152, grad_fn=<MseLossBackward>)\n",
      "tensor(0.0137, grad_fn=<MseLossBackward>)\n",
      "tensor(0.0151, grad_fn=<MseLossBackward>)\n",
      "tensor(0.0979, grad_fn=<MseLossBackward>)\n",
      "tensor(0.0130, grad_fn=<MseLossBackward>)\n",
      "tensor(0.0128, grad_fn=<MseLossBackward>)\n",
      "tensor(0.0141, grad_fn=<MseLossBackward>)\n",
      "tensor(0.0705, grad_fn=<MseLossBackward>)\n",
      "tensor(0.0142, grad_fn=<MseLossBackward>)\n",
      "tensor(0.0131, grad_fn=<MseLossBackward>)\n",
      "tensor(0.0163, grad_fn=<MseLossBackward>)\n",
      "tensor(0.0180, grad_fn=<MseLossBackward>)\n",
      "tensor(0.0138, grad_fn=<MseLossBackward>)\n",
      "8\n",
      "tensor(0.0133, grad_fn=<MseLossBackward>)\n",
      "tensor(0.0142, grad_fn=<MseLossBackward>)\n",
      "tensor(0.0513, grad_fn=<MseLossBackward>)\n",
      "tensor(0.0132, grad_fn=<MseLossBackward>)\n",
      "tensor(0.0137, grad_fn=<MseLossBackward>)\n",
      "tensor(0.0172, grad_fn=<MseLossBackward>)\n",
      "tensor(0.0587, grad_fn=<MseLossBackward>)\n",
      "tensor(0.0140, grad_fn=<MseLossBackward>)\n",
      "tensor(0.0198, grad_fn=<MseLossBackward>)\n",
      "tensor(0.0203, grad_fn=<MseLossBackward>)\n",
      "tensor(0.0900, grad_fn=<MseLossBackward>)\n",
      "tensor(0.0208, grad_fn=<MseLossBackward>)\n",
      "tensor(0.0081, grad_fn=<MseLossBackward>)\n",
      "tensor(0.0068, grad_fn=<MseLossBackward>)\n",
      "tensor(0.0812, grad_fn=<MseLossBackward>)\n",
      "tensor(0.0087, grad_fn=<MseLossBackward>)\n",
      "9\n",
      "tensor(0.0115, grad_fn=<MseLossBackward>)\n",
      "tensor(0.0113, grad_fn=<MseLossBackward>)\n",
      "tensor(0.0649, grad_fn=<MseLossBackward>)\n",
      "tensor(0.0120, grad_fn=<MseLossBackward>)\n",
      "tensor(0.0157, grad_fn=<MseLossBackward>)\n",
      "tensor(0.0192, grad_fn=<MseLossBackward>)\n",
      "tensor(0.0734, grad_fn=<MseLossBackward>)\n",
      "tensor(0.0161, grad_fn=<MseLossBackward>)\n",
      "tensor(0.0211, grad_fn=<MseLossBackward>)\n",
      "tensor(0.0219, grad_fn=<MseLossBackward>)\n",
      "tensor(0.0846, grad_fn=<MseLossBackward>)\n",
      "tensor(0.0211, grad_fn=<MseLossBackward>)\n",
      "tensor(0.0133, grad_fn=<MseLossBackward>)\n",
      "tensor(0.0093, grad_fn=<MseLossBackward>)\n",
      "tensor(0.0386, grad_fn=<MseLossBackward>)\n",
      "tensor(0.0129, grad_fn=<MseLossBackward>)\n",
      "10\n",
      "tensor(0.0185, grad_fn=<MseLossBackward>)\n",
      "tensor(0.0156, grad_fn=<MseLossBackward>)\n",
      "tensor(0.0772, grad_fn=<MseLossBackward>)\n",
      "tensor(0.0165, grad_fn=<MseLossBackward>)\n",
      "tensor(0.0105, grad_fn=<MseLossBackward>)\n",
      "tensor(0.0116, grad_fn=<MseLossBackward>)\n",
      "tensor(0.0960, grad_fn=<MseLossBackward>)\n",
      "tensor(0.0108, grad_fn=<MseLossBackward>)\n",
      "tensor(0.0141, grad_fn=<MseLossBackward>)\n",
      "tensor(0.0146, grad_fn=<MseLossBackward>)\n",
      "tensor(0.0336, grad_fn=<MseLossBackward>)\n",
      "tensor(0.0142, grad_fn=<MseLossBackward>)\n",
      "tensor(0.0157, grad_fn=<MseLossBackward>)\n",
      "tensor(0.0164, grad_fn=<MseLossBackward>)\n",
      "tensor(0.0236, grad_fn=<MseLossBackward>)\n",
      "tensor(0.0141, grad_fn=<MseLossBackward>)\n",
      "11\n",
      "tensor(0.0296, grad_fn=<MseLossBackward>)\n",
      "tensor(0.0334, grad_fn=<MseLossBackward>)\n",
      "tensor(0.0660, grad_fn=<MseLossBackward>)\n",
      "tensor(0.0298, grad_fn=<MseLossBackward>)\n",
      "tensor(0.0113, grad_fn=<MseLossBackward>)\n",
      "tensor(0.0132, grad_fn=<MseLossBackward>)\n",
      "tensor(0.0606, grad_fn=<MseLossBackward>)\n",
      "tensor(0.0120, grad_fn=<MseLossBackward>)\n",
      "tensor(0.0118, grad_fn=<MseLossBackward>)\n",
      "tensor(0.0135, grad_fn=<MseLossBackward>)\n",
      "tensor(0.0804, grad_fn=<MseLossBackward>)\n",
      "tensor(0.0114, grad_fn=<MseLossBackward>)\n",
      "tensor(0.0083, grad_fn=<MseLossBackward>)\n",
      "tensor(0.0109, grad_fn=<MseLossBackward>)\n",
      "tensor(0.0413, grad_fn=<MseLossBackward>)\n",
      "tensor(0.0084, grad_fn=<MseLossBackward>)\n"
     ]
    }
   ],
   "source": [
    "for epoch in range(12):\n",
    "    print(epoch)\n",
    "    for step, (batch_x,batch_y) in enumerate(loader):\n",
    "        for net,opt,l_his in zip(nets,optimizers,loss_his):\n",
    "            output = net(batch_x)\n",
    "            loss = loss_func(output, batch_y)\n",
    "            \n",
    "            opt.zero_grad()\n",
    "            loss.backward()\n",
    "            opt.step()\n",
    "            print(loss)\n",
    "            l_his.append(loss)"
   ]
  },
  {
   "cell_type": "code",
   "execution_count": 79,
   "metadata": {},
   "outputs": [
    {
     "data": {
      "text/plain": [
       "(0, 0.2)"
      ]
     },
     "execution_count": 79,
     "metadata": {},
     "output_type": "execute_result"
    },
    {
     "data": {
      "image/png": "[encoded data removed]",
      "text/plain": [
       "<Figure size 432x288 with 1 Axes>"
      ]
     },
     "metadata": {},
     "output_type": "display_data"
    }
   ],
   "source": [
    "labels = ['SGD','Momentmum','RMSgroup','Adam']\n",
    "for i, l_his in enumerate(loss_his):\n",
    "    plt.plot(l_his,label = labels[i])\n",
    "plt.legend(loc = 'best')\n",
    "plt.xlabel = 'Steps'\n",
    "plt.ylabel = 'Loss'\n",
    "plt.ylim ((0,0.2))"
   ]
  },
  {
   "cell_type": "code",
   "execution_count": null,
   "metadata": {},
   "outputs": [],
   "source": []
  }
 ],
 "metadata": {
  "kernelspec": {
   "display_name": "Python 3",
   "language": "python",
   "name": "python3"
  },
  "language_info": {
   "codemirror_mode": {
    "name": "ipython",
    "version": 3
   },
   "file_extension": ".py",
   "mimetype": "text/x-python",
   "name": "python",
   "nbconvert_exporter": "python",
   "pygments_lexer": "ipython3",
   "version": "3.6.5"
  }
 },
 "nbformat": 4,
 "nbformat_minor": 2
}
