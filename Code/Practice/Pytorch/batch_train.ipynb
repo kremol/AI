{
 "cells": [
  {
   "cell_type": "code",
   "execution_count": 4,
   "metadata": {},
   "outputs": [],
   "source": [
    "import torch\n",
    "import torch.nn.functional as F\n",
    "import torch.utils.data as Data"
   ]
  },
  {
   "cell_type": "code",
   "execution_count": 2,
   "metadata": {},
   "outputs": [],
   "source": [
    "x = torch.linspace(1,10,10)\n",
    "y = torch.linspace(10,1,10)"
   ]
  },
  {
   "cell_type": "code",
   "execution_count": 7,
   "metadata": {},
   "outputs": [],
   "source": [
    "torch_dataset = Data.TensorDataset(x,y)"
   ]
  },
  {
   "cell_type": "code",
   "execution_count": 14,
   "metadata": {},
   "outputs": [],
   "source": [
    "loader = Data.DataLoader(\n",
    "    dataset = torch_dataset,\n",
    "    batch_size = 3,\n",
    "    shuffle = False\n",
    ")\n"
   ]
  },
  {
   "cell_type": "code",
   "execution_count": 15,
   "metadata": {},
   "outputs": [
    {
     "name": "stdout",
     "output_type": "stream",
     "text": [
      "step | 0   tensor([1., 2., 3.]) tensor([10.,  9.,  8.])\n",
      "step | 1   tensor([4., 5., 6.]) tensor([7., 6., 5.])\n",
      "step | 2   tensor([7., 8., 9.]) tensor([4., 3., 2.])\n",
      "step | 3   tensor([10.]) tensor([1.])\n",
      "step | 0   tensor([1., 2., 3.]) tensor([10.,  9.,  8.])\n",
      "step | 1   tensor([4., 5., 6.]) tensor([7., 6., 5.])\n",
      "step | 2   tensor([7., 8., 9.]) tensor([4., 3., 2.])\n",
      "step | 3   tensor([10.]) tensor([1.])\n",
      "step | 0   tensor([1., 2., 3.]) tensor([10.,  9.,  8.])\n",
      "step | 1   tensor([4., 5., 6.]) tensor([7., 6., 5.])\n",
      "step | 2   tensor([7., 8., 9.]) tensor([4., 3., 2.])\n",
      "step | 3   tensor([10.]) tensor([1.])\n",
      "step | 0   tensor([1., 2., 3.]) tensor([10.,  9.,  8.])\n",
      "step | 1   tensor([4., 5., 6.]) tensor([7., 6., 5.])\n",
      "step | 2   tensor([7., 8., 9.]) tensor([4., 3., 2.])\n",
      "step | 3   tensor([10.]) tensor([1.])\n",
      "step | 0   tensor([1., 2., 3.]) tensor([10.,  9.,  8.])\n",
      "step | 1   tensor([4., 5., 6.]) tensor([7., 6., 5.])\n",
      "step | 2   tensor([7., 8., 9.]) tensor([4., 3., 2.])\n",
      "step | 3   tensor([10.]) tensor([1.])\n"
     ]
    }
   ],
   "source": [
    "for epoch in range(5):\n",
    "    for step, (batch_x,batch_y) in enumerate(loader):\n",
    "        print('step |',step,' ',batch_x,batch_y)"
   ]
  },
  {
   "cell_type": "code",
   "execution_count": null,
   "metadata": {},
   "outputs": [],
   "source": [
    " "
   ]
  }
 ],
 "metadata": {
  "kernelspec": {
   "display_name": "Python 3",
   "language": "python",
   "name": "python3"
  },
  "language_info": {
   "codemirror_mode": {
    "name": "ipython",
    "version": 3
   },
   "file_extension": ".py",
   "mimetype": "text/x-python",
   "name": "python",
   "nbconvert_exporter": "python",
   "pygments_lexer": "ipython3",
   "version": "3.6.5"
  }
 },
 "nbformat": 4,
 "nbformat_minor": 2
}
