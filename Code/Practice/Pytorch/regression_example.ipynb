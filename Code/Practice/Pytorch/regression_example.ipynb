{
 "cells": [
  {
   "cell_type": "code",
   "execution_count": 78,
   "metadata": {},
   "outputs": [],
   "source": [
    "import torch\n",
    "import torch.nn.functional as F\n",
    "import matplotlib.pyplot as plt"
   ]
  },
  {
   "cell_type": "code",
   "execution_count": 150,
   "metadata": {},
   "outputs": [],
   "source": [
    "x = torch.unsqueeze(torch.linspace(-1,1,100),dim=1)"
   ]
  },
  {
   "cell_type": "code",
   "execution_count": 155,
   "metadata": {},
   "outputs": [],
   "source": [
    "y = x.pow(2) + 0.1*torch.randn(x.size())"
   ]
  },
  {
   "cell_type": "code",
   "execution_count": 156,
   "metadata": {},
   "outputs": [
    {
     "data": {
      "text/plain": [
       "<matplotlib.collections.PathCollection at 0x1648e4f0e80>"
      ]
     },
     "execution_count": 156,
     "metadata": {},
     "output_type": "execute_result"
    },
    {
     "data": {
      "image/png": "[encoded data removed]",
      "text/plain": [
       "<Figure size 432x288 with 1 Axes>"
      ]
     },
     "metadata": {},
     "output_type": "display_data"
    }
   ],
   "source": [
    "plt.scatter(x.numpy(),y.numpy())"
   ]
  },
  {
   "cell_type": "code",
   "execution_count": 157,
   "metadata": {},
   "outputs": [],
   "source": [
    "class Net(torch.nn.Module):\n",
    "    def __init__(self,n_features, n_hidden, n_output):\n",
    "        super(Net,self).__init__()\n",
    "        self.hidden = torch.nn.Linear(n_features,n_hidden)\n",
    "        self.predict = torch.nn.Linear(n_hidden,n_output)\n",
    "    \n",
    "    def forward(self,x):\n",
    "        x = F.relu(self.hidden(x))\n",
    "        return self.predict(x)"
   ]
  },
  {
   "cell_type": "code",
   "execution_count": 158,
   "metadata": {},
   "outputs": [],
   "source": [
    "net = Net(1,10,1)"
   ]
  },
  {
   "cell_type": "code",
   "execution_count": 166,
   "metadata": {},
   "outputs": [],
   "source": [
    "loss_func = torch.nn.MSELoss()\n",
    "optimizer = torch.optim.SGD(net.parameters(),lr = 0.5)"
   ]
  },
  {
   "cell_type": "code",
   "execution_count": 169,
   "metadata": {},
   "outputs": [
    {
     "name": "stdout",
     "output_type": "stream",
     "text": [
      "0 th step loss is  tensor(0.1347, grad_fn=<MseLossBackward>)\n",
      "1 th step loss is  tensor(0.1240, grad_fn=<MseLossBackward>)\n",
      "2 th step loss is  tensor(0.1070, grad_fn=<MseLossBackward>)\n",
      "3 th step loss is  tensor(0.0948, grad_fn=<MseLossBackward>)\n",
      "4 th step loss is  tensor(0.0831, grad_fn=<MseLossBackward>)\n",
      "5 th step loss is  tensor(0.0751, grad_fn=<MseLossBackward>)\n",
      "6 th step loss is  tensor(0.0686, grad_fn=<MseLossBackward>)\n",
      "7 th step loss is  tensor(0.0637, grad_fn=<MseLossBackward>)\n",
      "8 th step loss is  tensor(0.0597, grad_fn=<MseLossBackward>)\n",
      "9 th step loss is  tensor(0.0562, grad_fn=<MseLossBackward>)\n",
      "10 th step loss is  tensor(0.0531, grad_fn=<MseLossBackward>)\n",
      "11 th step loss is  tensor(0.0503, grad_fn=<MseLossBackward>)\n",
      "12 th step loss is  tensor(0.0477, grad_fn=<MseLossBackward>)\n",
      "13 th step loss is  tensor(0.0452, grad_fn=<MseLossBackward>)\n",
      "14 th step loss is  tensor(0.0429, grad_fn=<MseLossBackward>)\n",
      "15 th step loss is  tensor(0.0407, grad_fn=<MseLossBackward>)\n",
      "16 th step loss is  tensor(0.0387, grad_fn=<MseLossBackward>)\n",
      "17 th step loss is  tensor(0.0367, grad_fn=<MseLossBackward>)\n",
      "18 th step loss is  tensor(0.0349, grad_fn=<MseLossBackward>)\n",
      "19 th step loss is  tensor(0.0331, grad_fn=<MseLossBackward>)\n",
      "20 th step loss is  tensor(0.0315, grad_fn=<MseLossBackward>)\n",
      "21 th step loss is  tensor(0.0300, grad_fn=<MseLossBackward>)\n",
      "22 th step loss is  tensor(0.0287, grad_fn=<MseLossBackward>)\n",
      "23 th step loss is  tensor(0.0274, grad_fn=<MseLossBackward>)\n",
      "24 th step loss is  tensor(0.0262, grad_fn=<MseLossBackward>)\n",
      "25 th step loss is  tensor(0.0251, grad_fn=<MseLossBackward>)\n",
      "26 th step loss is  tensor(0.0242, grad_fn=<MseLossBackward>)\n",
      "27 th step loss is  tensor(0.0233, grad_fn=<MseLossBackward>)\n",
      "28 th step loss is  tensor(0.0225, grad_fn=<MseLossBackward>)\n",
      "29 th step loss is  tensor(0.0218, grad_fn=<MseLossBackward>)\n",
      "30 th step loss is  tensor(0.0211, grad_fn=<MseLossBackward>)\n",
      "31 th step loss is  tensor(0.0205, grad_fn=<MseLossBackward>)\n",
      "32 th step loss is  tensor(0.0200, grad_fn=<MseLossBackward>)\n",
      "33 th step loss is  tensor(0.0195, grad_fn=<MseLossBackward>)\n",
      "34 th step loss is  tensor(0.0191, grad_fn=<MseLossBackward>)\n",
      "35 th step loss is  tensor(0.0187, grad_fn=<MseLossBackward>)\n",
      "36 th step loss is  tensor(0.0184, grad_fn=<MseLossBackward>)\n",
      "37 th step loss is  tensor(0.0181, grad_fn=<MseLossBackward>)\n",
      "38 th step loss is  tensor(0.0179, grad_fn=<MseLossBackward>)\n",
      "39 th step loss is  tensor(0.0176, grad_fn=<MseLossBackward>)\n",
      "40 th step loss is  tensor(0.0174, grad_fn=<MseLossBackward>)\n",
      "41 th step loss is  tensor(0.0173, grad_fn=<MseLossBackward>)\n",
      "42 th step loss is  tensor(0.0171, grad_fn=<MseLossBackward>)\n",
      "43 th step loss is  tensor(0.0170, grad_fn=<MseLossBackward>)\n",
      "44 th step loss is  tensor(0.0169, grad_fn=<MseLossBackward>)\n",
      "45 th step loss is  tensor(0.0167, grad_fn=<MseLossBackward>)\n",
      "46 th step loss is  tensor(0.0167, grad_fn=<MseLossBackward>)\n",
      "47 th step loss is  tensor(0.0166, grad_fn=<MseLossBackward>)\n",
      "48 th step loss is  tensor(0.0165, grad_fn=<MseLossBackward>)\n",
      "49 th step loss is  tensor(0.0164, grad_fn=<MseLossBackward>)\n",
      "50 th step loss is  tensor(0.0164, grad_fn=<MseLossBackward>)\n",
      "51 th step loss is  tensor(0.0163, grad_fn=<MseLossBackward>)\n",
      "52 th step loss is  tensor(0.0162, grad_fn=<MseLossBackward>)\n",
      "53 th step loss is  tensor(0.0162, grad_fn=<MseLossBackward>)\n",
      "54 th step loss is  tensor(0.0161, grad_fn=<MseLossBackward>)\n",
      "55 th step loss is  tensor(0.0161, grad_fn=<MseLossBackward>)\n",
      "56 th step loss is  tensor(0.0160, grad_fn=<MseLossBackward>)\n",
      "57 th step loss is  tensor(0.0160, grad_fn=<MseLossBackward>)\n",
      "58 th step loss is  tensor(0.0159, grad_fn=<MseLossBackward>)\n",
      "59 th step loss is  tensor(0.0159, grad_fn=<MseLossBackward>)\n",
      "60 th step loss is  tensor(0.0158, grad_fn=<MseLossBackward>)\n",
      "61 th step loss is  tensor(0.0158, grad_fn=<MseLossBackward>)\n",
      "62 th step loss is  tensor(0.0158, grad_fn=<MseLossBackward>)\n",
      "63 th step loss is  tensor(0.0157, grad_fn=<MseLossBackward>)\n",
      "64 th step loss is  tensor(0.0157, grad_fn=<MseLossBackward>)\n",
      "65 th step loss is  tensor(0.0157, grad_fn=<MseLossBackward>)\n",
      "66 th step loss is  tensor(0.0156, grad_fn=<MseLossBackward>)\n",
      "67 th step loss is  tensor(0.0156, grad_fn=<MseLossBackward>)\n",
      "68 th step loss is  tensor(0.0155, grad_fn=<MseLossBackward>)\n",
      "69 th step loss is  tensor(0.0155, grad_fn=<MseLossBackward>)\n",
      "70 th step loss is  tensor(0.0155, grad_fn=<MseLossBackward>)\n",
      "71 th step loss is  tensor(0.0154, grad_fn=<MseLossBackward>)\n",
      "72 th step loss is  tensor(0.0154, grad_fn=<MseLossBackward>)\n",
      "73 th step loss is  tensor(0.0153, grad_fn=<MseLossBackward>)\n",
      "74 th step loss is  tensor(0.0153, grad_fn=<MseLossBackward>)\n",
      "75 th step loss is  tensor(0.0153, grad_fn=<MseLossBackward>)\n",
      "76 th step loss is  tensor(0.0152, grad_fn=<MseLossBackward>)\n",
      "77 th step loss is  tensor(0.0152, grad_fn=<MseLossBackward>)\n",
      "78 th step loss is  tensor(0.0152, grad_fn=<MseLossBackward>)\n",
      "79 th step loss is  tensor(0.0151, grad_fn=<MseLossBackward>)\n",
      "80 th step loss is  tensor(0.0151, grad_fn=<MseLossBackward>)\n",
      "81 th step loss is  tensor(0.0151, grad_fn=<MseLossBackward>)\n",
      "82 th step loss is  tensor(0.0151, grad_fn=<MseLossBackward>)\n",
      "83 th step loss is  tensor(0.0151, grad_fn=<MseLossBackward>)\n",
      "84 th step loss is  tensor(0.0151, grad_fn=<MseLossBackward>)\n",
      "85 th step loss is  tensor(0.0150, grad_fn=<MseLossBackward>)\n",
      "86 th step loss is  tensor(0.0150, grad_fn=<MseLossBackward>)\n",
      "87 th step loss is  tensor(0.0150, grad_fn=<MseLossBackward>)\n",
      "88 th step loss is  tensor(0.0150, grad_fn=<MseLossBackward>)\n",
      "89 th step loss is  tensor(0.0150, grad_fn=<MseLossBackward>)\n",
      "90 th step loss is  tensor(0.0150, grad_fn=<MseLossBackward>)\n",
      "91 th step loss is  tensor(0.0150, grad_fn=<MseLossBackward>)\n",
      "92 th step loss is  tensor(0.0150, grad_fn=<MseLossBackward>)\n",
      "93 th step loss is  tensor(0.0150, grad_fn=<MseLossBackward>)\n",
      "94 th step loss is  tensor(0.0150, grad_fn=<MseLossBackward>)\n",
      "95 th step loss is  tensor(0.0150, grad_fn=<MseLossBackward>)\n",
      "96 th step loss is  tensor(0.0150, grad_fn=<MseLossBackward>)\n",
      "97 th step loss is  tensor(0.0149, grad_fn=<MseLossBackward>)\n",
      "98 th step loss is  tensor(0.0149, grad_fn=<MseLossBackward>)\n",
      "99 th step loss is  tensor(0.0149, grad_fn=<MseLossBackward>)\n"
     ]
    }
   ],
   "source": [
    "for t in range(100):\n",
    "    prediction = net(x)\n",
    "    loss = loss_func(prediction, y)\n",
    "    print(t, 'th step loss is ', loss)\n",
    "    \n",
    "    optimizer.zero_grad()\n",
    "    loss.backward()\n",
    "    optimizer.step()"
   ]
  },
  {
   "cell_type": "code",
   "execution_count": null,
   "metadata": {},
   "outputs": [],
   "source": []
  }
 ],
 "metadata": {
  "kernelspec": {
   "display_name": "Python 3",
   "language": "python",
   "name": "python3"
  },
  "language_info": {
   "codemirror_mode": {
    "name": "ipython",
    "version": 3
   },
   "file_extension": ".py",
   "mimetype": "text/x-python",
   "name": "python",
   "nbconvert_exporter": "python",
   "pygments_lexer": "ipython3",
   "version": "3.6.5"
  }
 },
 "nbformat": 4,
 "nbformat_minor": 2
}
